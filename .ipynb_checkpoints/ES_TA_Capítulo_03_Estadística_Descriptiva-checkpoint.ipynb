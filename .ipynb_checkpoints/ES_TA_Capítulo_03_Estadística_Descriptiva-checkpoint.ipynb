{
 "cells": [
  {
   "cell_type": "markdown",
   "metadata": {
    "colab_type": "text",
    "id": "view-in-github"
   },
   "source": [
    "<a href=\"https://colab.research.google.com/github/joanby/trading-algoritmico-estadistica-probabilidad/blob/main/ES_EyP_Cap%C3%ADtulo_01_Estad%C3%ADstica_Descriptiva.ipynb\" target=\"_parent\"><img src=\"https://colab.research.google.com/assets/colab-badge.svg\" alt=\"Open In Colab\"/></a>"
   ]
  },
  {
   "cell_type": "markdown",
   "metadata": {
    "id": "y-8rMq6JigP5"
   },
   "source": [
    "<p><img alt=\"Colaboratory logo\" height=\"45px\" src=\"https://www.quantreo.com/wp-content/uploads/2021/10/Original-on-Transparent.png\" align=\"left\" hspace=\"10px\" vspace=\"0px\">\n",
    "<img alt=\"Colaboratory logo\" height=\"45px\" src=\"https://static-881c.kxcdn.com/wp-content/uploads/2016/03/frogamesLogoFull4.png\" align=\"left\" hspace=\"10px\" vspace=\"0px\"></p>\n",
    "\n",
    "\n",
    "# Estadística Descriptiva\n",
    "Este capítulo explicará las estadísticas más importantes para describir un conjunto de datos en el mundo financiero. De hecho, estos métodos son útiles en la gestión de carteras, el análisis financiero y el comercio.\n",
    "\n",
    "<br>\n",
    "\n",
    "### Después de este Capítulo serás capaz de:\n",
    "* Calcular y entender cómo interpretar la media\n",
    "* Calcular y entender cómo interpretar la mediana\n",
    "* Calcular y entender cómo interpretar la moda\n",
    "* Calcular y comprender cómo interpretar la varianza\n",
    "* Calcular y comprender cómo interpretar la desviación estándar\n",
    "* Calcular y comprender cómo interpretar la covarianza\n",
    "* Calcular y comprender cómo interpretar la matriz de varianza-covarianza\n",
    "* Calcular y entender cómo interpretar el skweness\n",
    "* Calcular y comprender cómo interpretar la curtosis\n",
    "\n",
    "<br>\n",
    "<br>\n",
    "<br>\n",
    "\n",
    "### Ejercicios (Trading / Gestión de cartera):\n",
    "* Calcular el riesgo/rendimiento de un activo financiero\n",
    "* Calcular la correlación entre los activos correctamente\n",
    "\n",
    "\n",
    "<br>\n",
    "<br>\n",
    "\n",
    "💰 Únete a la comunidad de [Discord](https://discord.gg/wXjNPAc5BH)\n",
    "\n",
    "📚 Puedes leer nuestro libro en [Amazon](https://www.amazon.com/gp/product/B09HG18CYL)\n",
    "\n",
    "🖥️ El canal de [YouTube de Quantreo's](https://www.youtube.com/channel/UCp7jckfiEglNf_Gj62VR0pw) (en inglés) y el de [Frogames](https://www.youtube.com/channel/UCMUxXNYrVCv6-bQakhomvBg) en español\n",
    "\n",
    "\n"
   ]
  },
  {
   "cell_type": "code",
   "execution_count": 17,
   "metadata": {
    "colab": {
     "base_uri": "https://localhost:8080/"
    },
    "id": "nFCPEnthiKDO",
    "outputId": "45f9ba84-d575-4680-c9d6-ad2f4b566675"
   },
   "outputs": [
    {
     "name": "stdout",
     "output_type": "stream",
     "text": [
      "Looking in indexes: https://pypi.org/simple, https://us-python.pkg.dev/colab-wheels/public/simple/\n",
      "Requirement already satisfied: yfinance in /usr/local/lib/python3.7/dist-packages (0.1.72)\n",
      "Requirement already satisfied: multitasking>=0.0.7 in /usr/local/lib/python3.7/dist-packages (from yfinance) (0.0.10)\n",
      "Requirement already satisfied: requests>=2.26 in /usr/local/lib/python3.7/dist-packages (from yfinance) (2.28.1)\n",
      "Requirement already satisfied: lxml>=4.5.1 in /usr/local/lib/python3.7/dist-packages (from yfinance) (4.9.0)\n",
      "Requirement already satisfied: numpy>=1.15 in /usr/local/lib/python3.7/dist-packages (from yfinance) (1.21.6)\n",
      "Requirement already satisfied: pandas>=0.24.0 in /usr/local/lib/python3.7/dist-packages (from yfinance) (1.3.5)\n",
      "Requirement already satisfied: pytz>=2017.3 in /usr/local/lib/python3.7/dist-packages (from pandas>=0.24.0->yfinance) (2022.1)\n",
      "Requirement already satisfied: python-dateutil>=2.7.3 in /usr/local/lib/python3.7/dist-packages (from pandas>=0.24.0->yfinance) (2.8.2)\n",
      "Requirement already satisfied: six>=1.5 in /usr/local/lib/python3.7/dist-packages (from python-dateutil>=2.7.3->pandas>=0.24.0->yfinance) (1.15.0)\n",
      "Requirement already satisfied: charset-normalizer<3,>=2 in /usr/local/lib/python3.7/dist-packages (from requests>=2.26->yfinance) (2.0.12)\n",
      "Requirement already satisfied: idna<4,>=2.5 in /usr/local/lib/python3.7/dist-packages (from requests>=2.26->yfinance) (2.10)\n",
      "Requirement already satisfied: certifi>=2017.4.17 in /usr/local/lib/python3.7/dist-packages (from requests>=2.26->yfinance) (2022.6.15)\n",
      "Requirement already satisfied: urllib3<1.27,>=1.21.1 in /usr/local/lib/python3.7/dist-packages (from requests>=2.26->yfinance) (1.24.3)\n"
     ]
    }
   ],
   "source": [
    "!pip install yfinance"
   ]
  },
  {
   "cell_type": "code",
   "execution_count": 2,
   "metadata": {
    "id": "zXkk6LzElFfO"
   },
   "outputs": [],
   "source": [
    "import numpy as np\n",
    "import pandas as pd\n",
    "import yfinance as yf\n",
    "from scipy.stats import skew, kurtosis"
   ]
  },
  {
   "cell_type": "code",
   "execution_count": 2,
   "metadata": {
    "colab": {
     "base_uri": "https://localhost:8080/"
    },
    "id": "GrWlJWnolRTW",
    "outputId": "23ff6135-843d-4a26-ce38-61bff2d2b0c0"
   },
   "outputs": [
    {
     "name": "stdout",
     "output_type": "stream",
     "text": [
      "[*********************100%***********************]  1 of 1 completed\n"
     ]
    },
    {
     "data": {
      "text/plain": [
       "Date\n",
       "2004-08-20    0.079430\n",
       "2004-08-23    0.010064\n",
       "2004-08-24   -0.041408\n",
       "2004-08-25    0.010775\n",
       "2004-08-26    0.018019\n",
       "                ...   \n",
       "2022-08-19   -0.022671\n",
       "2022-08-22   -0.025821\n",
       "2022-08-23   -0.002607\n",
       "2022-08-24   -0.000610\n",
       "2022-08-25    0.026155\n",
       "Name: Adj Close, Length: 4536, dtype: float64"
      ]
     },
     "execution_count": 2,
     "metadata": {},
     "output_type": "execute_result"
    }
   ],
   "source": [
    "# Importar algunos datos\n",
    "df = yf.download(\"GOOG\")[\"Adj Close\"].pct_change(1).dropna()\n",
    "df"
   ]
  },
  {
   "cell_type": "markdown",
   "metadata": {
    "id": "p2tZo7CLlq4m"
   },
   "source": [
    "# Medidas de tendencia central"
   ]
  },
  {
   "cell_type": "markdown",
   "metadata": {
    "id": "cg6J8vRRmSu1"
   },
   "source": [
    "### Media"
   ]
  },
  {
   "cell_type": "code",
   "execution_count": 5,
   "metadata": {
    "colab": {
     "base_uri": "https://localhost:8080/"
    },
    "id": "eC4A85lHlscK",
    "outputId": "523bb78a-8012-4589-b0fe-ca5bdd297e63"
   },
   "outputs": [
    {
     "name": "stdout",
     "output_type": "stream",
     "text": [
      "Media Diaria: 0.10 %\n",
      "Media Anual: 25.96 % \n",
      "Media Mensual: 2.16 %\n"
     ]
    }
   ],
   "source": [
    "# -------- Media con numpy ------------\n",
    "mean = np.mean(df, axis=0)*100\n",
    "print(f\"Media Diaria: {'%.2f' % mean} %\")\n",
    "\n",
    "# Anualización de la rentabilidad media\n",
    "annual_mean = mean * 252\n",
    "print(f\"Media Anual: {'%.2f' % annual_mean} % \")\n",
    "\n",
    "# Retorno Medio Diario --> Retorno Medio Mensual\n",
    "monthly_mean = mean * 21\n",
    "print(f\"Media Mensual: {'%.2f' % monthly_mean} %\")"
   ]
  },
  {
   "cell_type": "markdown",
   "metadata": {
    "id": "i8b9avWkls4a"
   },
   "source": [
    "### Mediana"
   ]
  },
  {
   "cell_type": "code",
   "execution_count": 6,
   "metadata": {
    "colab": {
     "base_uri": "https://localhost:8080/"
    },
    "id": "8dcfWTX7lte-",
    "outputId": "31476bca-71ba-40bb-a714-3b19e83af229"
   },
   "outputs": [
    {
     "name": "stdout",
     "output_type": "stream",
     "text": [
      "Mediana Diaria: 0.08 %\n",
      "Mediana Anual: 19.14 % \n",
      "Monthly Median: 1.60 %\n"
     ]
    }
   ],
   "source": [
    "# -------- Mediana con numpy ------------\n",
    "median = np.median(df, axis=0)*100\n",
    "print(f\"Mediana Diaria: {'%.2f' % median} %\")\n",
    "\n",
    "# Anualización de la rentabilidad mediana\n",
    "annual_median = median * 252\n",
    "print(f\"Mediana Anual: {'%.2f' % annual_median} % \")\n",
    "\n",
    "# Retorno Mediano Diario --> Retorno Mediano Mensual\n",
    "monthly_median = median * 21\n",
    "print(f\"Monthly Median: {'%.2f' % monthly_median} %\")\n",
    "\n",
    "#Comentario"
   ]
  },
  {
   "cell_type": "markdown",
   "metadata": {
    "id": "IuPxPFuJlVzt"
   },
   "source": [
    "### Percentiles"
   ]
  },
  {
   "cell_type": "code",
   "execution_count": 6,
   "metadata": {
    "colab": {
     "base_uri": "https://localhost:8080/"
    },
    "id": "-wiCbE5slZCd",
    "outputId": "10986431-2ea2-406e-e7fa-567c16d8e538"
   },
   "outputs": [
    {
     "name": "stdout",
     "output_type": "stream",
     "text": [
      "Percentil 10%: -1.90 %\n",
      "Percentil 50%: 0.08 %\n",
      "Percentil 99%: 5.68 %\n"
     ]
    }
   ],
   "source": [
    "# -------- Percentil con numpy ------------\n",
    "centile_10 = np.quantile(df, 0.1, axis=0)*100\n",
    "print(f\"Percentil 10%: {'%.2f' % centile_10} %\")\n",
    "\n",
    "centile_50 = np.quantile(df, 0.5, axis=0)*100\n",
    "print(f\"Percentil 50%: {'%.2f' % centile_50} %\")\n",
    "\n",
    "centile_99 = np.quantile(df, 0.99, axis=0)*100\n",
    "print(f\"Percentil 99%: {'%.2f' % centile_99} %\")"
   ]
  },
  {
   "cell_type": "markdown",
   "metadata": {
    "id": "PFYSeX7mluW_"
   },
   "source": [
    "# Medición de la dispersión estándar"
   ]
  },
  {
   "cell_type": "markdown",
   "metadata": {
    "id": "it_t8g9flvj_"
   },
   "source": [
    "### Varianza"
   ]
  },
  {
   "cell_type": "code",
   "execution_count": 5,
   "metadata": {
    "colab": {
     "base_uri": "https://localhost:8080/"
    },
    "id": "53hf0BApnAVD",
    "outputId": "6a265553-655f-41e5-8be0-bdb10f0f5908"
   },
   "outputs": [
    {
     "name": "stdout",
     "output_type": "stream",
     "text": [
      "Varianza Diaria: 0.04 %\n",
      "Varianza Anual: 9.32 % \n",
      "Varianza Mensual: 0.78 %\n"
     ]
    }
   ],
   "source": [
    "# -------- Varianza con numpy ------------\n",
    "var = np.var(df, axis=0)*100\n",
    "print(f\"Varianza Diaria: {'%.2f' % var} %\")\n",
    "\n",
    "# Anualización de la varianza\n",
    "annual_var = var * 252\n",
    "print(f\"Varianza Anual: {'%.2f' % annual_var} % \")\n",
    "\n",
    "# Varianza Diaria --> Varianza Mensual\n",
    "monthly_var = var * 21\n",
    "print(f\"Varianza Mensual: {'%.2f' % monthly_var} %\")"
   ]
  },
  {
   "cell_type": "markdown",
   "metadata": {
    "id": "K6ztZywPlveM"
   },
   "source": [
    "### Desviación Estándar"
   ]
  },
  {
   "cell_type": "code",
   "execution_count": 8,
   "metadata": {
    "colab": {
     "base_uri": "https://localhost:8080/"
    },
    "id": "AVYHBUH8nCLj",
    "outputId": "81d02f3c-82e5-4002-b510-739fafa10feb"
   },
   "outputs": [
    {
     "name": "stdout",
     "output_type": "stream",
     "text": [
      "Volatilidad Diaria: 1.92 %\n",
      "Volatilidad Anual: 30.45 % \n",
      "Volatilidad Mensual: 8.79 %\n"
     ]
    }
   ],
   "source": [
    "# -------- Desviación Estándar con numpy ------------\n",
    "std = np.std(df, axis=0)*100\n",
    "print(f\"Volatilidad Diaria: {'%.2f' % std} %\")\n",
    "\n",
    "# Anualización de la Desviación Estándar\n",
    "annual_std = std * np.sqrt(252)\n",
    "print(f\"Volatilidad Anual: {'%.2f' % annual_std} % \")\n",
    "\n",
    "# Desviación Estándar Diaria --> Desviación Estándar Mensual\n",
    "monthly_std = std * np.sqrt(21)\n",
    "print(f\"Volatilidad Mensual: {'%.2f' % monthly_std} %\")"
   ]
  },
  {
   "cell_type": "markdown",
   "metadata": {
    "id": "QiUm_ssInj3S"
   },
   "source": [
    "### Sesgo"
   ]
  },
  {
   "cell_type": "code",
   "execution_count": 9,
   "metadata": {
    "colab": {
     "base_uri": "https://localhost:8080/"
    },
    "id": "7MLNVSYxnlIM",
    "outputId": "90d09680-1db9-40a3-a3f5-c1161cb5a66d"
   },
   "outputs": [
    {
     "name": "stdout",
     "output_type": "stream",
     "text": [
      "Sesgo: 0.74 \n"
     ]
    }
   ],
   "source": [
    "# -------- Sesgo con numpy ------------\n",
    "skw = skew(df)\n",
    "print(f\"Sesgo: {'%.2f' % skw} \")"
   ]
  },
  {
   "cell_type": "markdown",
   "metadata": {
    "id": "uAT1Fbxjnmo8"
   },
   "source": [
    "### Kurtosis"
   ]
  },
  {
   "cell_type": "code",
   "execution_count": 10,
   "metadata": {
    "colab": {
     "base_uri": "https://localhost:8080/"
    },
    "id": "DTDPx8sQnoKt",
    "outputId": "b831aaa1-5837-4d93-8420-0fd9e315ac68"
   },
   "outputs": [
    {
     "name": "stdout",
     "output_type": "stream",
     "text": [
      "Curtosis: 10.01\n"
     ]
    }
   ],
   "source": [
    "# -------- Curtosis with numpy ------------\n",
    "kurto = kurtosis(df)\n",
    "print(f\"Curtosis: {'%.2f' % kurto}\")"
   ]
  },
  {
   "cell_type": "markdown",
   "metadata": {
    "id": "PifaiEO_lvRr"
   },
   "source": [
    "# Medidas de Relación"
   ]
  },
  {
   "cell_type": "markdown",
   "metadata": {
    "id": "0frdccR1lutn"
   },
   "source": [
    "### Matriz de Varianzas y Covarianzas"
   ]
  },
  {
   "cell_type": "code",
   "execution_count": 9,
   "metadata": {
    "colab": {
     "base_uri": "https://localhost:8080/",
     "height": 473
    },
    "id": "2QHnKYZdg9QP",
    "outputId": "231eb791-c249-457f-f170-aaeaff6d4cde"
   },
   "outputs": [
    {
     "name": "stdout",
     "output_type": "stream",
     "text": [
      "[*********************100%***********************]  5 of 5 completed\n"
     ]
    },
    {
     "data": {
      "text/html": [
       "<div>\n",
       "<style scoped>\n",
       "    .dataframe tbody tr th:only-of-type {\n",
       "        vertical-align: middle;\n",
       "    }\n",
       "\n",
       "    .dataframe tbody tr th {\n",
       "        vertical-align: top;\n",
       "    }\n",
       "\n",
       "    .dataframe thead th {\n",
       "        text-align: right;\n",
       "    }\n",
       "</style>\n",
       "<table border=\"1\" class=\"dataframe\">\n",
       "  <thead>\n",
       "    <tr style=\"text-align: right;\">\n",
       "      <th></th>\n",
       "      <th>AMZN</th>\n",
       "      <th>EURUSD=X</th>\n",
       "      <th>GOOG</th>\n",
       "      <th>MSFT</th>\n",
       "      <th>TSLA</th>\n",
       "    </tr>\n",
       "    <tr>\n",
       "      <th>Date</th>\n",
       "      <th></th>\n",
       "      <th></th>\n",
       "      <th></th>\n",
       "      <th></th>\n",
       "      <th></th>\n",
       "    </tr>\n",
       "  </thead>\n",
       "  <tbody>\n",
       "    <tr>\n",
       "      <th>2010-06-30</th>\n",
       "      <td>0.005985</td>\n",
       "      <td>0.003584</td>\n",
       "      <td>-0.020495</td>\n",
       "      <td>-0.012870</td>\n",
       "      <td>-0.002512</td>\n",
       "    </tr>\n",
       "    <tr>\n",
       "      <th>2010-07-01</th>\n",
       "      <td>0.015559</td>\n",
       "      <td>0.022689</td>\n",
       "      <td>-0.012271</td>\n",
       "      <td>0.006519</td>\n",
       "      <td>-0.078472</td>\n",
       "    </tr>\n",
       "    <tr>\n",
       "      <th>2010-07-02</th>\n",
       "      <td>-0.016402</td>\n",
       "      <td>0.005079</td>\n",
       "      <td>-0.006690</td>\n",
       "      <td>0.004750</td>\n",
       "      <td>-0.125683</td>\n",
       "    </tr>\n",
       "    <tr>\n",
       "      <th>2010-07-05</th>\n",
       "      <td>0.000000</td>\n",
       "      <td>-0.002708</td>\n",
       "      <td>0.000000</td>\n",
       "      <td>0.000000</td>\n",
       "      <td>0.000000</td>\n",
       "    </tr>\n",
       "    <tr>\n",
       "      <th>2010-07-06</th>\n",
       "      <td>0.008430</td>\n",
       "      <td>0.006943</td>\n",
       "      <td>-0.001100</td>\n",
       "      <td>0.023636</td>\n",
       "      <td>-0.160937</td>\n",
       "    </tr>\n",
       "    <tr>\n",
       "      <th>...</th>\n",
       "      <td>...</td>\n",
       "      <td>...</td>\n",
       "      <td>...</td>\n",
       "      <td>...</td>\n",
       "      <td>...</td>\n",
       "    </tr>\n",
       "    <tr>\n",
       "      <th>2022-08-19</th>\n",
       "      <td>-0.028602</td>\n",
       "      <td>-0.008869</td>\n",
       "      <td>-0.022671</td>\n",
       "      <td>-0.013854</td>\n",
       "      <td>-0.020482</td>\n",
       "    </tr>\n",
       "    <tr>\n",
       "      <th>2022-08-22</th>\n",
       "      <td>-0.036244</td>\n",
       "      <td>-0.005419</td>\n",
       "      <td>-0.025821</td>\n",
       "      <td>-0.029355</td>\n",
       "      <td>-0.022764</td>\n",
       "    </tr>\n",
       "    <tr>\n",
       "      <th>2022-08-23</th>\n",
       "      <td>0.003003</td>\n",
       "      <td>-0.009542</td>\n",
       "      <td>-0.002607</td>\n",
       "      <td>-0.004716</td>\n",
       "      <td>0.022558</td>\n",
       "    </tr>\n",
       "    <tr>\n",
       "      <th>2022-08-24</th>\n",
       "      <td>0.001347</td>\n",
       "      <td>0.002761</td>\n",
       "      <td>-0.000610</td>\n",
       "      <td>-0.002351</td>\n",
       "      <td>0.002170</td>\n",
       "    </tr>\n",
       "    <tr>\n",
       "      <th>2022-08-25</th>\n",
       "      <td>0.026009</td>\n",
       "      <td>0.000219</td>\n",
       "      <td>0.026155</td>\n",
       "      <td>0.011095</td>\n",
       "      <td>-0.003456</td>\n",
       "    </tr>\n",
       "  </tbody>\n",
       "</table>\n",
       "<p>3172 rows × 5 columns</p>\n",
       "</div>"
      ],
      "text/plain": [
       "                AMZN  EURUSD=X      GOOG      MSFT      TSLA\n",
       "Date                                                        \n",
       "2010-06-30  0.005985  0.003584 -0.020495 -0.012870 -0.002512\n",
       "2010-07-01  0.015559  0.022689 -0.012271  0.006519 -0.078472\n",
       "2010-07-02 -0.016402  0.005079 -0.006690  0.004750 -0.125683\n",
       "2010-07-05  0.000000 -0.002708  0.000000  0.000000  0.000000\n",
       "2010-07-06  0.008430  0.006943 -0.001100  0.023636 -0.160937\n",
       "...              ...       ...       ...       ...       ...\n",
       "2022-08-19 -0.028602 -0.008869 -0.022671 -0.013854 -0.020482\n",
       "2022-08-22 -0.036244 -0.005419 -0.025821 -0.029355 -0.022764\n",
       "2022-08-23  0.003003 -0.009542 -0.002607 -0.004716  0.022558\n",
       "2022-08-24  0.001347  0.002761 -0.000610 -0.002351  0.002170\n",
       "2022-08-25  0.026009  0.000219  0.026155  0.011095 -0.003456\n",
       "\n",
       "[3172 rows x 5 columns]"
      ]
     },
     "execution_count": 9,
     "metadata": {},
     "output_type": "execute_result"
    }
   ],
   "source": [
    "# Importar los assets\n",
    "df = yf.download([\"GOOG\",\"EURUSD=X\", \"MSFT\", \"AMZN\", \"TSLA\"])[\"Adj Close\"].pct_change(1).dropna()\n",
    "df"
   ]
  },
  {
   "cell_type": "code",
   "execution_count": 10,
   "metadata": {
    "colab": {
     "base_uri": "https://localhost:8080/"
    },
    "id": "S0ugetwlnKGc",
    "outputId": "6376b05b-9936-4f2e-e279-65a9a432976e"
   },
   "outputs": [
    {
     "data": {
      "text/plain": [
       "array([[ 3.97417617e-04,  3.41505354e-06,  1.91317670e-04,\n",
       "         1.72788366e-04,  2.39209623e-04],\n",
       "       [ 3.41505354e-06,  2.89706178e-05, -5.28828784e-07,\n",
       "        -8.31587586e-07, -2.36092719e-06],\n",
       "       [ 1.91317670e-04, -5.28828784e-07,  2.66107855e-04,\n",
       "         1.63834408e-04,  1.89156466e-04],\n",
       "       [ 1.72788366e-04, -8.31587586e-07,  1.63834408e-04,\n",
       "         2.50931981e-04,  1.95463812e-04],\n",
       "       [ 2.39209623e-04, -2.36092719e-06,  1.89156466e-04,\n",
       "         1.95463812e-04,  1.24268123e-03]])"
      ]
     },
     "execution_count": 10,
     "metadata": {},
     "output_type": "execute_result"
    }
   ],
   "source": [
    "# Matriz de Varianzas y Covarianzas\n",
    "mat = np.cov(df, rowvar=False)\n",
    "mat"
   ]
  },
  {
   "cell_type": "code",
   "execution_count": 12,
   "metadata": {
    "colab": {
     "base_uri": "https://localhost:8080/",
     "height": 206
    },
    "id": "yh9ce5yqd4Mf",
    "outputId": "9f6b21f5-f66e-4886-dc3c-933fca766bd3"
   },
   "outputs": [
    {
     "data": {
      "text/html": [
       "\n",
       "  <div id=\"df-a01fde41-fdc6-468b-a31f-ccad9d8e695e\">\n",
       "    <div class=\"colab-df-container\">\n",
       "      <div>\n",
       "<style scoped>\n",
       "    .dataframe tbody tr th:only-of-type {\n",
       "        vertical-align: middle;\n",
       "    }\n",
       "\n",
       "    .dataframe tbody tr th {\n",
       "        vertical-align: top;\n",
       "    }\n",
       "\n",
       "    .dataframe thead th {\n",
       "        text-align: right;\n",
       "    }\n",
       "</style>\n",
       "<table border=\"1\" class=\"dataframe\">\n",
       "  <thead>\n",
       "    <tr style=\"text-align: right;\">\n",
       "      <th></th>\n",
       "      <th>AMZN</th>\n",
       "      <th>EURUSD=X</th>\n",
       "      <th>GOOG</th>\n",
       "      <th>MSFT</th>\n",
       "      <th>TSLA</th>\n",
       "    </tr>\n",
       "  </thead>\n",
       "  <tbody>\n",
       "    <tr>\n",
       "      <th>AMZN</th>\n",
       "      <td>0.039742</td>\n",
       "      <td>0.000342</td>\n",
       "      <td>0.019132</td>\n",
       "      <td>0.017279</td>\n",
       "      <td>0.023921</td>\n",
       "    </tr>\n",
       "    <tr>\n",
       "      <th>EURUSD=X</th>\n",
       "      <td>0.000342</td>\n",
       "      <td>0.002897</td>\n",
       "      <td>-0.000053</td>\n",
       "      <td>-0.000083</td>\n",
       "      <td>-0.000236</td>\n",
       "    </tr>\n",
       "    <tr>\n",
       "      <th>GOOG</th>\n",
       "      <td>0.019132</td>\n",
       "      <td>-0.000053</td>\n",
       "      <td>0.026611</td>\n",
       "      <td>0.016383</td>\n",
       "      <td>0.018916</td>\n",
       "    </tr>\n",
       "    <tr>\n",
       "      <th>MSFT</th>\n",
       "      <td>0.017279</td>\n",
       "      <td>-0.000083</td>\n",
       "      <td>0.016383</td>\n",
       "      <td>0.025093</td>\n",
       "      <td>0.019546</td>\n",
       "    </tr>\n",
       "    <tr>\n",
       "      <th>TSLA</th>\n",
       "      <td>0.023921</td>\n",
       "      <td>-0.000236</td>\n",
       "      <td>0.018916</td>\n",
       "      <td>0.019546</td>\n",
       "      <td>0.124268</td>\n",
       "    </tr>\n",
       "  </tbody>\n",
       "</table>\n",
       "</div>\n",
       "      <button class=\"colab-df-convert\" onclick=\"convertToInteractive('df-a01fde41-fdc6-468b-a31f-ccad9d8e695e')\"\n",
       "              title=\"Convert this dataframe to an interactive table.\"\n",
       "              style=\"display:none;\">\n",
       "        \n",
       "  <svg xmlns=\"http://www.w3.org/2000/svg\" height=\"24px\"viewBox=\"0 0 24 24\"\n",
       "       width=\"24px\">\n",
       "    <path d=\"M0 0h24v24H0V0z\" fill=\"none\"/>\n",
       "    <path d=\"M18.56 5.44l.94 2.06.94-2.06 2.06-.94-2.06-.94-.94-2.06-.94 2.06-2.06.94zm-11 1L8.5 8.5l.94-2.06 2.06-.94-2.06-.94L8.5 2.5l-.94 2.06-2.06.94zm10 10l.94 2.06.94-2.06 2.06-.94-2.06-.94-.94-2.06-.94 2.06-2.06.94z\"/><path d=\"M17.41 7.96l-1.37-1.37c-.4-.4-.92-.59-1.43-.59-.52 0-1.04.2-1.43.59L10.3 9.45l-7.72 7.72c-.78.78-.78 2.05 0 2.83L4 21.41c.39.39.9.59 1.41.59.51 0 1.02-.2 1.41-.59l7.78-7.78 2.81-2.81c.8-.78.8-2.07 0-2.86zM5.41 20L4 18.59l7.72-7.72 1.47 1.35L5.41 20z\"/>\n",
       "  </svg>\n",
       "      </button>\n",
       "      \n",
       "  <style>\n",
       "    .colab-df-container {\n",
       "      display:flex;\n",
       "      flex-wrap:wrap;\n",
       "      gap: 12px;\n",
       "    }\n",
       "\n",
       "    .colab-df-convert {\n",
       "      background-color: #E8F0FE;\n",
       "      border: none;\n",
       "      border-radius: 50%;\n",
       "      cursor: pointer;\n",
       "      display: none;\n",
       "      fill: #1967D2;\n",
       "      height: 32px;\n",
       "      padding: 0 0 0 0;\n",
       "      width: 32px;\n",
       "    }\n",
       "\n",
       "    .colab-df-convert:hover {\n",
       "      background-color: #E2EBFA;\n",
       "      box-shadow: 0px 1px 2px rgba(60, 64, 67, 0.3), 0px 1px 3px 1px rgba(60, 64, 67, 0.15);\n",
       "      fill: #174EA6;\n",
       "    }\n",
       "\n",
       "    [theme=dark] .colab-df-convert {\n",
       "      background-color: #3B4455;\n",
       "      fill: #D2E3FC;\n",
       "    }\n",
       "\n",
       "    [theme=dark] .colab-df-convert:hover {\n",
       "      background-color: #434B5C;\n",
       "      box-shadow: 0px 1px 3px 1px rgba(0, 0, 0, 0.15);\n",
       "      filter: drop-shadow(0px 1px 2px rgba(0, 0, 0, 0.3));\n",
       "      fill: #FFFFFF;\n",
       "    }\n",
       "  </style>\n",
       "\n",
       "      <script>\n",
       "        const buttonEl =\n",
       "          document.querySelector('#df-a01fde41-fdc6-468b-a31f-ccad9d8e695e button.colab-df-convert');\n",
       "        buttonEl.style.display =\n",
       "          google.colab.kernel.accessAllowed ? 'block' : 'none';\n",
       "\n",
       "        async function convertToInteractive(key) {\n",
       "          const element = document.querySelector('#df-a01fde41-fdc6-468b-a31f-ccad9d8e695e');\n",
       "          const dataTable =\n",
       "            await google.colab.kernel.invokeFunction('convertToInteractive',\n",
       "                                                     [key], {});\n",
       "          if (!dataTable) return;\n",
       "\n",
       "          const docLinkHtml = 'Like what you see? Visit the ' +\n",
       "            '<a target=\"_blank\" href=https://colab.research.google.com/notebooks/data_table.ipynb>data table notebook</a>'\n",
       "            + ' to learn more about interactive tables.';\n",
       "          element.innerHTML = '';\n",
       "          dataTable['output_type'] = 'display_data';\n",
       "          await google.colab.output.renderOutput(dataTable, element);\n",
       "          const docLink = document.createElement('div');\n",
       "          docLink.innerHTML = docLinkHtml;\n",
       "          element.appendChild(docLink);\n",
       "        }\n",
       "      </script>\n",
       "    </div>\n",
       "  </div>\n",
       "  "
      ],
      "text/plain": [
       "              AMZN  EURUSD=X      GOOG      MSFT      TSLA\n",
       "AMZN      0.039742  0.000342  0.019132  0.017279  0.023921\n",
       "EURUSD=X  0.000342  0.002897 -0.000053 -0.000083 -0.000236\n",
       "GOOG      0.019132 -0.000053  0.026611  0.016383  0.018916\n",
       "MSFT      0.017279 -0.000083  0.016383  0.025093  0.019546\n",
       "TSLA      0.023921 -0.000236  0.018916  0.019546  0.124268"
      ]
     },
     "execution_count": 12,
     "metadata": {},
     "output_type": "execute_result"
    }
   ],
   "source": [
    "pd.DataFrame(mat*100, columns = df.columns, index = df.columns)"
   ]
  },
  {
   "cell_type": "markdown",
   "metadata": {
    "id": "99XR-ZVYlvId"
   },
   "source": [
    "### Covarianza"
   ]
  },
  {
   "cell_type": "code",
   "execution_count": 16,
   "metadata": {
    "colab": {
     "base_uri": "https://localhost:8080/"
    },
    "id": "4sToNOY5nQ1s",
    "outputId": "009ad0a4-2e57-4686-ed3e-6d3c03c73d16"
   },
   "outputs": [
    {
     "data": {
      "text/plain": [
       "0.0001913176703722284"
      ]
     },
     "execution_count": 16,
     "metadata": {},
     "output_type": "execute_result"
    }
   ],
   "source": [
    "# Covarianza\n",
    "mat[0][2]"
   ]
  },
  {
   "cell_type": "markdown",
   "metadata": {
    "id": "cn1dVDfPh_84"
   },
   "source": [
    "### Correlación"
   ]
  },
  {
   "cell_type": "code",
   "execution_count": 15,
   "metadata": {
    "colab": {
     "base_uri": "https://localhost:8080/",
     "height": 206
    },
    "id": "uDCl-IDeh-bE",
    "outputId": "987a22bb-b2c9-49a1-f196-185f0190ad8b"
   },
   "outputs": [
    {
     "data": {
      "text/html": [
       "\n",
       "  <div id=\"df-77b6cd61-6f43-4fbe-b033-7573a957f60b\">\n",
       "    <div class=\"colab-df-container\">\n",
       "      <div>\n",
       "<style scoped>\n",
       "    .dataframe tbody tr th:only-of-type {\n",
       "        vertical-align: middle;\n",
       "    }\n",
       "\n",
       "    .dataframe tbody tr th {\n",
       "        vertical-align: top;\n",
       "    }\n",
       "\n",
       "    .dataframe thead th {\n",
       "        text-align: right;\n",
       "    }\n",
       "</style>\n",
       "<table border=\"1\" class=\"dataframe\">\n",
       "  <thead>\n",
       "    <tr style=\"text-align: right;\">\n",
       "      <th></th>\n",
       "      <th>AMZN</th>\n",
       "      <th>EURUSD=X</th>\n",
       "      <th>GOOG</th>\n",
       "      <th>MSFT</th>\n",
       "      <th>TSLA</th>\n",
       "    </tr>\n",
       "  </thead>\n",
       "  <tbody>\n",
       "    <tr>\n",
       "      <th>AMZN</th>\n",
       "      <td>1.000000</td>\n",
       "      <td>0.031827</td>\n",
       "      <td>0.588305</td>\n",
       "      <td>0.547158</td>\n",
       "      <td>0.340389</td>\n",
       "    </tr>\n",
       "    <tr>\n",
       "      <th>EURUSD=X</th>\n",
       "      <td>0.031827</td>\n",
       "      <td>1.000000</td>\n",
       "      <td>-0.006023</td>\n",
       "      <td>-0.009753</td>\n",
       "      <td>-0.012443</td>\n",
       "    </tr>\n",
       "    <tr>\n",
       "      <th>GOOG</th>\n",
       "      <td>0.588305</td>\n",
       "      <td>-0.006023</td>\n",
       "      <td>1.000000</td>\n",
       "      <td>0.634013</td>\n",
       "      <td>0.328937</td>\n",
       "    </tr>\n",
       "    <tr>\n",
       "      <th>MSFT</th>\n",
       "      <td>0.547158</td>\n",
       "      <td>-0.009753</td>\n",
       "      <td>0.634013</td>\n",
       "      <td>1.000000</td>\n",
       "      <td>0.350033</td>\n",
       "    </tr>\n",
       "    <tr>\n",
       "      <th>TSLA</th>\n",
       "      <td>0.340389</td>\n",
       "      <td>-0.012443</td>\n",
       "      <td>0.328937</td>\n",
       "      <td>0.350033</td>\n",
       "      <td>1.000000</td>\n",
       "    </tr>\n",
       "  </tbody>\n",
       "</table>\n",
       "</div>\n",
       "      <button class=\"colab-df-convert\" onclick=\"convertToInteractive('df-77b6cd61-6f43-4fbe-b033-7573a957f60b')\"\n",
       "              title=\"Convert this dataframe to an interactive table.\"\n",
       "              style=\"display:none;\">\n",
       "        \n",
       "  <svg xmlns=\"http://www.w3.org/2000/svg\" height=\"24px\"viewBox=\"0 0 24 24\"\n",
       "       width=\"24px\">\n",
       "    <path d=\"M0 0h24v24H0V0z\" fill=\"none\"/>\n",
       "    <path d=\"M18.56 5.44l.94 2.06.94-2.06 2.06-.94-2.06-.94-.94-2.06-.94 2.06-2.06.94zm-11 1L8.5 8.5l.94-2.06 2.06-.94-2.06-.94L8.5 2.5l-.94 2.06-2.06.94zm10 10l.94 2.06.94-2.06 2.06-.94-2.06-.94-.94-2.06-.94 2.06-2.06.94z\"/><path d=\"M17.41 7.96l-1.37-1.37c-.4-.4-.92-.59-1.43-.59-.52 0-1.04.2-1.43.59L10.3 9.45l-7.72 7.72c-.78.78-.78 2.05 0 2.83L4 21.41c.39.39.9.59 1.41.59.51 0 1.02-.2 1.41-.59l7.78-7.78 2.81-2.81c.8-.78.8-2.07 0-2.86zM5.41 20L4 18.59l7.72-7.72 1.47 1.35L5.41 20z\"/>\n",
       "  </svg>\n",
       "      </button>\n",
       "      \n",
       "  <style>\n",
       "    .colab-df-container {\n",
       "      display:flex;\n",
       "      flex-wrap:wrap;\n",
       "      gap: 12px;\n",
       "    }\n",
       "\n",
       "    .colab-df-convert {\n",
       "      background-color: #E8F0FE;\n",
       "      border: none;\n",
       "      border-radius: 50%;\n",
       "      cursor: pointer;\n",
       "      display: none;\n",
       "      fill: #1967D2;\n",
       "      height: 32px;\n",
       "      padding: 0 0 0 0;\n",
       "      width: 32px;\n",
       "    }\n",
       "\n",
       "    .colab-df-convert:hover {\n",
       "      background-color: #E2EBFA;\n",
       "      box-shadow: 0px 1px 2px rgba(60, 64, 67, 0.3), 0px 1px 3px 1px rgba(60, 64, 67, 0.15);\n",
       "      fill: #174EA6;\n",
       "    }\n",
       "\n",
       "    [theme=dark] .colab-df-convert {\n",
       "      background-color: #3B4455;\n",
       "      fill: #D2E3FC;\n",
       "    }\n",
       "\n",
       "    [theme=dark] .colab-df-convert:hover {\n",
       "      background-color: #434B5C;\n",
       "      box-shadow: 0px 1px 3px 1px rgba(0, 0, 0, 0.15);\n",
       "      filter: drop-shadow(0px 1px 2px rgba(0, 0, 0, 0.3));\n",
       "      fill: #FFFFFF;\n",
       "    }\n",
       "  </style>\n",
       "\n",
       "      <script>\n",
       "        const buttonEl =\n",
       "          document.querySelector('#df-77b6cd61-6f43-4fbe-b033-7573a957f60b button.colab-df-convert');\n",
       "        buttonEl.style.display =\n",
       "          google.colab.kernel.accessAllowed ? 'block' : 'none';\n",
       "\n",
       "        async function convertToInteractive(key) {\n",
       "          const element = document.querySelector('#df-77b6cd61-6f43-4fbe-b033-7573a957f60b');\n",
       "          const dataTable =\n",
       "            await google.colab.kernel.invokeFunction('convertToInteractive',\n",
       "                                                     [key], {});\n",
       "          if (!dataTable) return;\n",
       "\n",
       "          const docLinkHtml = 'Like what you see? Visit the ' +\n",
       "            '<a target=\"_blank\" href=https://colab.research.google.com/notebooks/data_table.ipynb>data table notebook</a>'\n",
       "            + ' to learn more about interactive tables.';\n",
       "          element.innerHTML = '';\n",
       "          dataTable['output_type'] = 'display_data';\n",
       "          await google.colab.output.renderOutput(dataTable, element);\n",
       "          const docLink = document.createElement('div');\n",
       "          docLink.innerHTML = docLinkHtml;\n",
       "          element.appendChild(docLink);\n",
       "        }\n",
       "      </script>\n",
       "    </div>\n",
       "  </div>\n",
       "  "
      ],
      "text/plain": [
       "              AMZN  EURUSD=X      GOOG      MSFT      TSLA\n",
       "AMZN      1.000000  0.031827  0.588305  0.547158  0.340389\n",
       "EURUSD=X  0.031827  1.000000 -0.006023 -0.009753 -0.012443\n",
       "GOOG      0.588305 -0.006023  1.000000  0.634013  0.328937\n",
       "MSFT      0.547158 -0.009753  0.634013  1.000000  0.350033\n",
       "TSLA      0.340389 -0.012443  0.328937  0.350033  1.000000"
      ]
     },
     "execution_count": 15,
     "metadata": {},
     "output_type": "execute_result"
    }
   ],
   "source": [
    "# Matriz de Correlaciones\n",
    "df.corr()"
   ]
  },
  {
   "cell_type": "markdown",
   "metadata": {
    "id": "RH1GSNFgj2Je"
   },
   "source": [
    "# EJERCICIOS"
   ]
  },
  {
   "cell_type": "markdown",
   "metadata": {
    "id": "-pUpScZZj7N1"
   },
   "source": [
    "### Ejercicio 1: Calcula la pareja de **riesgo (volatilidad) y retorno anualizado** para el precio de las acciones de Microsoft (símbolo de Yahoo: MSFT). No olvides utilizar las variaciones porcentuales del precio"
   ]
  },
  {
   "cell_type": "code",
   "execution_count": 12,
   "metadata": {},
   "outputs": [
    {
     "name": "stdout",
     "output_type": "stream",
     "text": [
      "[*********************100%***********************]  1 of 1 completed\n",
      "Date\n",
      "2014-09-18   -0.071926\n",
      "2014-09-19   -0.069843\n",
      "2014-09-20    0.035735\n",
      "2014-09-21   -0.024659\n",
      "2014-09-22    0.008352\n",
      "                ...   \n",
      "2022-08-21    0.017389\n",
      "2022-08-22   -0.006279\n",
      "2022-08-23    0.006037\n",
      "2022-08-24   -0.006181\n",
      "2022-08-25    0.009623\n",
      "Name: Adj Close, Length: 2899, dtype: float64\n",
      "MSFT | \t retorno: 76.16 % \t volatilidad: 73.92 %\n"
     ]
    }
   ],
   "source": [
    "# Importar los precios\n",
    "df = yf.download(\"BTC-USD\")[\"Adj Close\"].pct_change(1).dropna()\n",
    "print(df)\n",
    "# Calcular el riesgo del retorno\n",
    "mean = np.mean(df) * 365 * 100\n",
    "vol = np.std(df) * np.sqrt(365) * 100\n",
    "\n",
    "print(f\"MSFT | \\t retorno: {'%.2f' % mean} % \\t volatilidad: {'%.2f' % vol} %\")"
   ]
  },
  {
   "cell_type": "code",
   "execution_count": 13,
   "metadata": {
    "colab": {
     "base_uri": "https://localhost:8080/"
    },
    "id": "ODWMcx4tj6fR",
    "outputId": "d1ce80d6-ff67-4698-96f7-bbcefc513abd"
   },
   "outputs": [
    {
     "name": "stdout",
     "output_type": "stream",
     "text": [
      "[*********************100%***********************]  1 of 1 completed\n",
      "MSFT | \t retorno: 28.87 % \t volatilidad: 33.83 %\n"
     ]
    }
   ],
   "source": [
    "# Importar los precios\n",
    "df = yf.download(\"MSFT\")[\"Adj Close\"].pct_change(1).dropna()\n",
    "# Calcular el riesgo del retorno\n",
    "mean = np.mean(df) * 252 * 100\n",
    "vol = np.std(df) * np.sqrt(252) * 100\n",
    "\n",
    "print(f\"MSFT | \\t retorno: {'%.2f' % mean} % \\t volatilidad: {'%.2f' % vol} %\")"
   ]
  },
  {
   "cell_type": "markdown",
   "metadata": {
    "id": "sL5YN_fDoWXk"
   },
   "source": [
    "### Ejercicio 2: Calcula la matriz de covarianzas y la matriz de correlación para los siguientes activos: [\"AMZN\", \"MSFT\", \"GOOG\", \"EURUSD=X\", \"BTC-USD\"]"
   ]
  },
  {
   "cell_type": "code",
   "execution_count": 20,
   "metadata": {
    "colab": {
     "base_uri": "https://localhost:8080/",
     "height": 224
    },
    "id": "EnVzvLzfoDqg",
    "outputId": "4307d0a6-ec41-4b37-bac3-7ab715b9c017"
   },
   "outputs": [
    {
     "name": "stdout",
     "output_type": "stream",
     "text": [
      "[*********************100%***********************]  5 of 5 completed\n"
     ]
    },
    {
     "data": {
      "text/html": [
       "\n",
       "  <div id=\"df-d5d0eac2-4b46-460e-9787-5fb3f2641dfa\">\n",
       "    <div class=\"colab-df-container\">\n",
       "      <div>\n",
       "<style scoped>\n",
       "    .dataframe tbody tr th:only-of-type {\n",
       "        vertical-align: middle;\n",
       "    }\n",
       "\n",
       "    .dataframe tbody tr th {\n",
       "        vertical-align: top;\n",
       "    }\n",
       "\n",
       "    .dataframe thead th {\n",
       "        text-align: right;\n",
       "    }\n",
       "</style>\n",
       "<table border=\"1\" class=\"dataframe\">\n",
       "  <thead>\n",
       "    <tr style=\"text-align: right;\">\n",
       "      <th></th>\n",
       "      <th>AMZN</th>\n",
       "      <th>BTC-USD</th>\n",
       "      <th>EURUSD=X</th>\n",
       "      <th>GOOG</th>\n",
       "      <th>MSFT</th>\n",
       "    </tr>\n",
       "  </thead>\n",
       "  <tbody>\n",
       "    <tr>\n",
       "      <th>AMZN</th>\n",
       "      <td>2.809726e-04</td>\n",
       "      <td>0.000073</td>\n",
       "      <td>8.003295e-07</td>\n",
       "      <td>1.547634e-04</td>\n",
       "      <td>1.548825e-04</td>\n",
       "    </tr>\n",
       "    <tr>\n",
       "      <th>BTC-USD</th>\n",
       "      <td>7.335965e-05</td>\n",
       "      <td>0.001510</td>\n",
       "      <td>-1.096928e-06</td>\n",
       "      <td>7.266364e-05</td>\n",
       "      <td>8.624681e-05</td>\n",
       "    </tr>\n",
       "    <tr>\n",
       "      <th>EURUSD=X</th>\n",
       "      <td>8.003295e-07</td>\n",
       "      <td>-0.000001</td>\n",
       "      <td>1.808402e-05</td>\n",
       "      <td>-9.039355e-07</td>\n",
       "      <td>-9.750464e-07</td>\n",
       "    </tr>\n",
       "    <tr>\n",
       "      <th>GOOG</th>\n",
       "      <td>1.547634e-04</td>\n",
       "      <td>0.000073</td>\n",
       "      <td>-9.039355e-07</td>\n",
       "      <td>2.017117e-04</td>\n",
       "      <td>1.490245e-04</td>\n",
       "    </tr>\n",
       "    <tr>\n",
       "      <th>MSFT</th>\n",
       "      <td>1.548825e-04</td>\n",
       "      <td>0.000086</td>\n",
       "      <td>-9.750464e-07</td>\n",
       "      <td>1.490245e-04</td>\n",
       "      <td>2.052922e-04</td>\n",
       "    </tr>\n",
       "  </tbody>\n",
       "</table>\n",
       "</div>\n",
       "      <button class=\"colab-df-convert\" onclick=\"convertToInteractive('df-d5d0eac2-4b46-460e-9787-5fb3f2641dfa')\"\n",
       "              title=\"Convert this dataframe to an interactive table.\"\n",
       "              style=\"display:none;\">\n",
       "        \n",
       "  <svg xmlns=\"http://www.w3.org/2000/svg\" height=\"24px\"viewBox=\"0 0 24 24\"\n",
       "       width=\"24px\">\n",
       "    <path d=\"M0 0h24v24H0V0z\" fill=\"none\"/>\n",
       "    <path d=\"M18.56 5.44l.94 2.06.94-2.06 2.06-.94-2.06-.94-.94-2.06-.94 2.06-2.06.94zm-11 1L8.5 8.5l.94-2.06 2.06-.94-2.06-.94L8.5 2.5l-.94 2.06-2.06.94zm10 10l.94 2.06.94-2.06 2.06-.94-2.06-.94-.94-2.06-.94 2.06-2.06.94z\"/><path d=\"M17.41 7.96l-1.37-1.37c-.4-.4-.92-.59-1.43-.59-.52 0-1.04.2-1.43.59L10.3 9.45l-7.72 7.72c-.78.78-.78 2.05 0 2.83L4 21.41c.39.39.9.59 1.41.59.51 0 1.02-.2 1.41-.59l7.78-7.78 2.81-2.81c.8-.78.8-2.07 0-2.86zM5.41 20L4 18.59l7.72-7.72 1.47 1.35L5.41 20z\"/>\n",
       "  </svg>\n",
       "      </button>\n",
       "      \n",
       "  <style>\n",
       "    .colab-df-container {\n",
       "      display:flex;\n",
       "      flex-wrap:wrap;\n",
       "      gap: 12px;\n",
       "    }\n",
       "\n",
       "    .colab-df-convert {\n",
       "      background-color: #E8F0FE;\n",
       "      border: none;\n",
       "      border-radius: 50%;\n",
       "      cursor: pointer;\n",
       "      display: none;\n",
       "      fill: #1967D2;\n",
       "      height: 32px;\n",
       "      padding: 0 0 0 0;\n",
       "      width: 32px;\n",
       "    }\n",
       "\n",
       "    .colab-df-convert:hover {\n",
       "      background-color: #E2EBFA;\n",
       "      box-shadow: 0px 1px 2px rgba(60, 64, 67, 0.3), 0px 1px 3px 1px rgba(60, 64, 67, 0.15);\n",
       "      fill: #174EA6;\n",
       "    }\n",
       "\n",
       "    [theme=dark] .colab-df-convert {\n",
       "      background-color: #3B4455;\n",
       "      fill: #D2E3FC;\n",
       "    }\n",
       "\n",
       "    [theme=dark] .colab-df-convert:hover {\n",
       "      background-color: #434B5C;\n",
       "      box-shadow: 0px 1px 3px 1px rgba(0, 0, 0, 0.15);\n",
       "      filter: drop-shadow(0px 1px 2px rgba(0, 0, 0, 0.3));\n",
       "      fill: #FFFFFF;\n",
       "    }\n",
       "  </style>\n",
       "\n",
       "      <script>\n",
       "        const buttonEl =\n",
       "          document.querySelector('#df-d5d0eac2-4b46-460e-9787-5fb3f2641dfa button.colab-df-convert');\n",
       "        buttonEl.style.display =\n",
       "          google.colab.kernel.accessAllowed ? 'block' : 'none';\n",
       "\n",
       "        async function convertToInteractive(key) {\n",
       "          const element = document.querySelector('#df-d5d0eac2-4b46-460e-9787-5fb3f2641dfa');\n",
       "          const dataTable =\n",
       "            await google.colab.kernel.invokeFunction('convertToInteractive',\n",
       "                                                     [key], {});\n",
       "          if (!dataTable) return;\n",
       "\n",
       "          const docLinkHtml = 'Like what you see? Visit the ' +\n",
       "            '<a target=\"_blank\" href=https://colab.research.google.com/notebooks/data_table.ipynb>data table notebook</a>'\n",
       "            + ' to learn more about interactive tables.';\n",
       "          element.innerHTML = '';\n",
       "          dataTable['output_type'] = 'display_data';\n",
       "          await google.colab.output.renderOutput(dataTable, element);\n",
       "          const docLink = document.createElement('div');\n",
       "          docLink.innerHTML = docLinkHtml;\n",
       "          element.appendChild(docLink);\n",
       "        }\n",
       "      </script>\n",
       "    </div>\n",
       "  </div>\n",
       "  "
      ],
      "text/plain": [
       "                  AMZN   BTC-USD      EURUSD=X          GOOG          MSFT\n",
       "AMZN      2.809726e-04  0.000073  8.003295e-07  1.547634e-04  1.548825e-04\n",
       "BTC-USD   7.335965e-05  0.001510 -1.096928e-06  7.266364e-05  8.624681e-05\n",
       "EURUSD=X  8.003295e-07 -0.000001  1.808402e-05 -9.039355e-07 -9.750464e-07\n",
       "GOOG      1.547634e-04  0.000073 -9.039355e-07  2.017117e-04  1.490245e-04\n",
       "MSFT      1.548825e-04  0.000086 -9.750464e-07  1.490245e-04  2.052922e-04"
      ]
     },
     "execution_count": 20,
     "metadata": {},
     "output_type": "execute_result"
    }
   ],
   "source": [
    "df = yf.download([\"AMZN\", \"MSFT\", \"GOOG\", \"EURUSD=X\", \"BTC-USD\"])[\"Adj Close\"].pct_change(1).dropna()\n",
    "df.cov()"
   ]
  },
  {
   "cell_type": "code",
   "execution_count": 21,
   "metadata": {
    "colab": {
     "base_uri": "https://localhost:8080/",
     "height": 206
    },
    "id": "GtXEcqHKo-0O",
    "outputId": "9ed6114b-de95-477d-bf30-d66beefc519a"
   },
   "outputs": [
    {
     "data": {
      "text/html": [
       "\n",
       "  <div id=\"df-942af0cf-d48a-459d-ae31-fd3f0812928c\">\n",
       "    <div class=\"colab-df-container\">\n",
       "      <div>\n",
       "<style scoped>\n",
       "    .dataframe tbody tr th:only-of-type {\n",
       "        vertical-align: middle;\n",
       "    }\n",
       "\n",
       "    .dataframe tbody tr th {\n",
       "        vertical-align: top;\n",
       "    }\n",
       "\n",
       "    .dataframe thead th {\n",
       "        text-align: right;\n",
       "    }\n",
       "</style>\n",
       "<table border=\"1\" class=\"dataframe\">\n",
       "  <thead>\n",
       "    <tr style=\"text-align: right;\">\n",
       "      <th></th>\n",
       "      <th>AMZN</th>\n",
       "      <th>BTC-USD</th>\n",
       "      <th>EURUSD=X</th>\n",
       "      <th>GOOG</th>\n",
       "      <th>MSFT</th>\n",
       "    </tr>\n",
       "  </thead>\n",
       "  <tbody>\n",
       "    <tr>\n",
       "      <th>AMZN</th>\n",
       "      <td>1.000000</td>\n",
       "      <td>0.112608</td>\n",
       "      <td>0.011228</td>\n",
       "      <td>0.650086</td>\n",
       "      <td>0.644888</td>\n",
       "    </tr>\n",
       "    <tr>\n",
       "      <th>BTC-USD</th>\n",
       "      <td>0.112608</td>\n",
       "      <td>1.000000</td>\n",
       "      <td>-0.006637</td>\n",
       "      <td>0.131642</td>\n",
       "      <td>0.154881</td>\n",
       "    </tr>\n",
       "    <tr>\n",
       "      <th>EURUSD=X</th>\n",
       "      <td>0.011228</td>\n",
       "      <td>-0.006637</td>\n",
       "      <td>1.000000</td>\n",
       "      <td>-0.014967</td>\n",
       "      <td>-0.016003</td>\n",
       "    </tr>\n",
       "    <tr>\n",
       "      <th>GOOG</th>\n",
       "      <td>0.650086</td>\n",
       "      <td>0.131642</td>\n",
       "      <td>-0.014967</td>\n",
       "      <td>1.000000</td>\n",
       "      <td>0.732328</td>\n",
       "    </tr>\n",
       "    <tr>\n",
       "      <th>MSFT</th>\n",
       "      <td>0.644888</td>\n",
       "      <td>0.154881</td>\n",
       "      <td>-0.016003</td>\n",
       "      <td>0.732328</td>\n",
       "      <td>1.000000</td>\n",
       "    </tr>\n",
       "  </tbody>\n",
       "</table>\n",
       "</div>\n",
       "      <button class=\"colab-df-convert\" onclick=\"convertToInteractive('df-942af0cf-d48a-459d-ae31-fd3f0812928c')\"\n",
       "              title=\"Convert this dataframe to an interactive table.\"\n",
       "              style=\"display:none;\">\n",
       "        \n",
       "  <svg xmlns=\"http://www.w3.org/2000/svg\" height=\"24px\"viewBox=\"0 0 24 24\"\n",
       "       width=\"24px\">\n",
       "    <path d=\"M0 0h24v24H0V0z\" fill=\"none\"/>\n",
       "    <path d=\"M18.56 5.44l.94 2.06.94-2.06 2.06-.94-2.06-.94-.94-2.06-.94 2.06-2.06.94zm-11 1L8.5 8.5l.94-2.06 2.06-.94-2.06-.94L8.5 2.5l-.94 2.06-2.06.94zm10 10l.94 2.06.94-2.06 2.06-.94-2.06-.94-.94-2.06-.94 2.06-2.06.94z\"/><path d=\"M17.41 7.96l-1.37-1.37c-.4-.4-.92-.59-1.43-.59-.52 0-1.04.2-1.43.59L10.3 9.45l-7.72 7.72c-.78.78-.78 2.05 0 2.83L4 21.41c.39.39.9.59 1.41.59.51 0 1.02-.2 1.41-.59l7.78-7.78 2.81-2.81c.8-.78.8-2.07 0-2.86zM5.41 20L4 18.59l7.72-7.72 1.47 1.35L5.41 20z\"/>\n",
       "  </svg>\n",
       "      </button>\n",
       "      \n",
       "  <style>\n",
       "    .colab-df-container {\n",
       "      display:flex;\n",
       "      flex-wrap:wrap;\n",
       "      gap: 12px;\n",
       "    }\n",
       "\n",
       "    .colab-df-convert {\n",
       "      background-color: #E8F0FE;\n",
       "      border: none;\n",
       "      border-radius: 50%;\n",
       "      cursor: pointer;\n",
       "      display: none;\n",
       "      fill: #1967D2;\n",
       "      height: 32px;\n",
       "      padding: 0 0 0 0;\n",
       "      width: 32px;\n",
       "    }\n",
       "\n",
       "    .colab-df-convert:hover {\n",
       "      background-color: #E2EBFA;\n",
       "      box-shadow: 0px 1px 2px rgba(60, 64, 67, 0.3), 0px 1px 3px 1px rgba(60, 64, 67, 0.15);\n",
       "      fill: #174EA6;\n",
       "    }\n",
       "\n",
       "    [theme=dark] .colab-df-convert {\n",
       "      background-color: #3B4455;\n",
       "      fill: #D2E3FC;\n",
       "    }\n",
       "\n",
       "    [theme=dark] .colab-df-convert:hover {\n",
       "      background-color: #434B5C;\n",
       "      box-shadow: 0px 1px 3px 1px rgba(0, 0, 0, 0.15);\n",
       "      filter: drop-shadow(0px 1px 2px rgba(0, 0, 0, 0.3));\n",
       "      fill: #FFFFFF;\n",
       "    }\n",
       "  </style>\n",
       "\n",
       "      <script>\n",
       "        const buttonEl =\n",
       "          document.querySelector('#df-942af0cf-d48a-459d-ae31-fd3f0812928c button.colab-df-convert');\n",
       "        buttonEl.style.display =\n",
       "          google.colab.kernel.accessAllowed ? 'block' : 'none';\n",
       "\n",
       "        async function convertToInteractive(key) {\n",
       "          const element = document.querySelector('#df-942af0cf-d48a-459d-ae31-fd3f0812928c');\n",
       "          const dataTable =\n",
       "            await google.colab.kernel.invokeFunction('convertToInteractive',\n",
       "                                                     [key], {});\n",
       "          if (!dataTable) return;\n",
       "\n",
       "          const docLinkHtml = 'Like what you see? Visit the ' +\n",
       "            '<a target=\"_blank\" href=https://colab.research.google.com/notebooks/data_table.ipynb>data table notebook</a>'\n",
       "            + ' to learn more about interactive tables.';\n",
       "          element.innerHTML = '';\n",
       "          dataTable['output_type'] = 'display_data';\n",
       "          await google.colab.output.renderOutput(dataTable, element);\n",
       "          const docLink = document.createElement('div');\n",
       "          docLink.innerHTML = docLinkHtml;\n",
       "          element.appendChild(docLink);\n",
       "        }\n",
       "      </script>\n",
       "    </div>\n",
       "  </div>\n",
       "  "
      ],
      "text/plain": [
       "              AMZN   BTC-USD  EURUSD=X      GOOG      MSFT\n",
       "AMZN      1.000000  0.112608  0.011228  0.650086  0.644888\n",
       "BTC-USD   0.112608  1.000000 -0.006637  0.131642  0.154881\n",
       "EURUSD=X  0.011228 -0.006637  1.000000 -0.014967 -0.016003\n",
       "GOOG      0.650086  0.131642 -0.014967  1.000000  0.732328\n",
       "MSFT      0.644888  0.154881 -0.016003  0.732328  1.000000"
      ]
     },
     "execution_count": 21,
     "metadata": {},
     "output_type": "execute_result"
    }
   ],
   "source": [
    "df.corr()"
   ]
  },
  {
   "cell_type": "code",
   "execution_count": null,
   "metadata": {
    "id": "YqYQndrSpAIz"
   },
   "outputs": [],
   "source": []
  }
 ],
 "metadata": {
  "colab": {
   "collapsed_sections": [],
   "include_colab_link": true,
   "name": "ES - EyP Capítulo 01: Estadística Descriptiva",
   "provenance": []
  },
  "kernelspec": {
   "display_name": "Python 3 (ipykernel)",
   "language": "python",
   "name": "python3"
  },
  "language_info": {
   "codemirror_mode": {
    "name": "ipython",
    "version": 3
   },
   "file_extension": ".py",
   "mimetype": "text/x-python",
   "name": "python",
   "nbconvert_exporter": "python",
   "pygments_lexer": "ipython3",
   "version": "3.9.6"
  },
  "varInspector": {
   "cols": {
    "lenName": 16,
    "lenType": 16,
    "lenVar": 40
   },
   "kernels_config": {
    "python": {
     "delete_cmd_postfix": "",
     "delete_cmd_prefix": "del ",
     "library": "var_list.py",
     "varRefreshCmd": "print(var_dic_list())"
    },
    "r": {
     "delete_cmd_postfix": ") ",
     "delete_cmd_prefix": "rm(",
     "library": "var_list.r",
     "varRefreshCmd": "cat(var_dic_list()) "
    }
   },
   "types_to_exclude": [
    "module",
    "function",
    "builtin_function_or_method",
    "instance",
    "_Feature"
   ],
   "window_display": false
  },
  "vscode": {
   "interpreter": {
    "hash": "3850058cb9318b99b34f2356463c23897513403d1f04f2e0fc408b282c168631"
   }
  }
 },
 "nbformat": 4,
 "nbformat_minor": 1
}
